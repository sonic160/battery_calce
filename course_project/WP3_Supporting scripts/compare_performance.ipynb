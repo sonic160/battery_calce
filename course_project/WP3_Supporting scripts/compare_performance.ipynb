{
 "cells": [
  {
   "cell_type": "code",
   "execution_count": 2,
   "metadata": {},
   "outputs": [
    {
     "name": "stdout",
     "output_type": "stream",
     "text": [
      "Particle filter:\n",
      "  Dataset        RMSE      MAPE     PH   RE_mean    RE_std\n",
      "0  CS2_33   25.786281  0.426804  300.0  0.426804  0.895939\n",
      "1  CS2_34  188.578553  1.141725  300.0  1.141725  1.068721\n",
      "2  CS2_35   53.945348  0.780925  300.0  0.780925  1.103169\n",
      "3  CS2_36   21.502369  0.177375  300.0  0.177375  0.193282\n",
      "4  CS2_37   52.069483  0.232915  200.0  0.232915  0.149095\n",
      "5  CS2_38   50.708840  0.412987  141.0  0.412987  0.594381\n",
      "\n",
      "Regression:\n",
      "  Dataset        RMSE      MAPE     PH   RE_mean    RE_std\n",
      "0  CS2_33  251.675434  0.910231  150.0  0.910231  0.852452\n",
      "1  CS2_34  175.445885  0.599796  220.0  0.599796  0.464818\n",
      "2  CS2_35  329.662249  2.107287    0.0  2.107287  1.097334\n",
      "3  CS2_36  202.356673  0.796504  200.0  0.796504  0.512175\n",
      "4  CS2_37  289.213123  1.187414   60.0  1.187414  0.945858\n",
      "5  CS2_38  282.318391  1.492582    0.0  1.492582  0.733419\n"
     ]
    }
   ],
   "source": [
    "from sklearn.metrics import mean_squared_error\n",
    "import numpy as np\n",
    "import pickle\n",
    "import pandas as pd\n",
    "from performance_rul import rmse, mape, re, prediction_horizon, alpha_coverage\n",
    "\n",
    "\n",
    "battery_list = ['CS2_33', 'CS2_34', 'CS2_35', 'CS2_36', 'CS2_37', 'CS2_38']\n",
    "cols = ['Dataset', 'RMSE', 'MAPE', 'PH', 'RE_mean', 'RE_std']\n",
    "df_result_pf = pd.DataFrame(columns=cols)\n",
    "\n",
    "for name in battery_list:        \n",
    "    file_name = 'result_' + name + '.pickle'\n",
    "    with open(file_name, 'rb') as f:\n",
    "        [t, y, threshold, idx_ttf, idx_pred, true_ttf, max_RUL, \n",
    "            xh, yh, y_bands, rul_mean, rul_bands, rul, rul_weights, particles, w\n",
    "        ] = pickle.load(f)\n",
    "    \n",
    "    rul_true = (true_ttf-t[idx_pred])*(true_ttf-t[idx_pred]>=0)\n",
    "    rul_pred = rul_mean[rul_true>0]\n",
    "    rul_true = rul_true[rul_true>0]\n",
    "\n",
    "    metric_rmse = rmse(rul_true, rul_pred)\n",
    "    metric_mape = mape(rul_true, rul_pred)\n",
    "    metric_re = re(rul_true, rul_pred)\n",
    "    metric_ph = prediction_horizon(rul_true, rul_pred)\n",
    "    metric_alpha_coverage = alpha_coverage(rul_true, rul, rul_weights, .9)\n",
    "\n",
    "    current_result = pd.DataFrame(data={'Dataset': name, 'RMSE': metric_rmse, 'MAPE': metric_mape, \n",
    "    'PH': metric_ph, 'RE_mean': np.mean(metric_re), 'RE_std':np.std(metric_re)}, index=[0])\n",
    "    df_result_pf = pd.concat([df_result_pf, current_result]).reset_index(drop=True)      \n",
    "\n",
    "df_result_reg = pd.DataFrame(columns=cols)\n",
    "for name in battery_list:\n",
    "    file_name = 'result_reg_' + name + '.pickle'\n",
    "    with open(file_name, 'rb') as f:\n",
    "        [t, y, threshold, idx_ttf, idx_pred, true_ttf, max_RUL, \n",
    "            x_hat, yh, y_bands, rul_mean, rul_bands, rul, x_sample\n",
    "        ] = pickle.load(f)\n",
    "\n",
    "    rul_true = (true_ttf-t[idx_pred])*(true_ttf-t[idx_pred]>=0)\n",
    "    rul_pred = rul_mean[rul_true>0]\n",
    "    rul_true = rul_true[rul_true>0]\n",
    "\n",
    "    metric_rmse = rmse(rul_true, rul_pred)\n",
    "    metric_mape = mape(rul_true, rul_pred)\n",
    "    metric_re = re(rul_true, rul_pred)\n",
    "    metric_ph = prediction_horizon(rul_true, rul_pred)\n",
    "    metric_alpha_coverage = alpha_coverage(rul_true, rul, rul_weights, .9)\n",
    "\n",
    "    current_result = pd.DataFrame(data={'Dataset': name, 'RMSE': metric_rmse, 'MAPE': metric_mape, \n",
    "    'PH': metric_ph, 'RE_mean': np.mean(metric_re), 'RE_std':np.std(metric_re)}, index=[0])\n",
    "    df_result_reg = pd.concat([df_result_reg, current_result]).reset_index(drop=True)\n",
    "\n",
    "print('Particle filter:')\n",
    "print(df_result_pf)\n",
    "print('\\nRegression:')\n",
    "print(df_result_reg)"
   ]
  }
 ],
 "metadata": {
  "kernelspec": {
   "display_name": "Python 3",
   "language": "python",
   "name": "python3"
  },
  "language_info": {
   "codemirror_mode": {
    "name": "ipython",
    "version": 3
   },
   "file_extension": ".py",
   "mimetype": "text/x-python",
   "name": "python",
   "nbconvert_exporter": "python",
   "pygments_lexer": "ipython3",
   "version": "3.8.6"
  },
  "orig_nbformat": 4,
  "vscode": {
   "interpreter": {
    "hash": "1e4347efc9525cc332960ef81a08601dc32726a1c4f3143eac4c61d078948a8b"
   }
  }
 },
 "nbformat": 4,
 "nbformat_minor": 2
}
